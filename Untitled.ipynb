{
 "cells": [
  {
   "cell_type": "code",
   "execution_count": null,
   "id": "67ff20cb",
   "metadata": {},
   "outputs": [],
   "source": [
    "#Import des librairies pour le fonctionnement du programme"
   ]
  },
  {
   "cell_type": "code",
   "execution_count": null,
   "id": "b53b0b91",
   "metadata": {},
   "outputs": [],
   "source": [
    "import os\n",
    "\n",
    "import numpy as np\n",
    "import scipy.stats\n",
    "import matplotlib as mpl\n",
    "import matplotlib.pyplot as plt\n",
    "\n",
    "Fs=20480\n",
    "Ts=488.28\n"
   ]
  }
 ],
 "metadata": {
  "kernelspec": {
   "display_name": "Python 3 (ipykernel)",
   "language": "python",
   "name": "python3"
  },
  "language_info": {
   "codemirror_mode": {
    "name": "ipython",
    "version": 3
   },
   "file_extension": ".py",
   "mimetype": "text/x-python",
   "name": "python",
   "nbconvert_exporter": "python",
   "pygments_lexer": "ipython3",
   "version": "3.10.9"
  }
 },
 "nbformat": 4,
 "nbformat_minor": 5
}
